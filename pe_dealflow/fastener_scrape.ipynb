{
  "nbformat": 4,
  "nbformat_minor": 0,
  "metadata": {
    "colab": {
      "provenance": [],
      "include_colab_link": true
    },
    "kernelspec": {
      "name": "python3",
      "display_name": "Python 3"
    },
    "language_info": {
      "name": "python"
    }
  },
  "cells": [
    {
      "cell_type": "markdown",
      "metadata": {
        "id": "view-in-github",
        "colab_type": "text"
      },
      "source": [
        "<a href=\"https://colab.research.google.com/github/ctar/DS_Portfolio/blob/master/pe_dealflow/fastener_scrape.ipynb\" target=\"_parent\"><img src=\"https://colab.research.google.com/assets/colab-badge.svg\" alt=\"Open In Colab\"/></a>"
      ]
    },
    {
      "cell_type": "code",
      "execution_count": 1,
      "metadata": {
        "id": "QxHYWI2q1nWc"
      },
      "outputs": [],
      "source": [
        "import requests\n",
        "import json\n",
        "from urllib.parse import quote_plus\n",
        "\n",
        "# Please note: f-strings require Python 3.6+\n",
        "\n",
        "# The URL of the Common Crawl Index server\n",
        "CC_INDEX_SERVER = 'http://index.commoncrawl.org/'\n",
        "\n",
        "# The Common Crawl index you want to query\n",
        "INDEX_NAME = 'CC-MAIN-2023-40'      # Replace with the latest index name\n",
        "\n",
        "# The URL you want to look up in the Common Crawl index\n",
        "target_url = 'commoncrawl.org/faq'  # Replace with your target URL\n",
        "\n",
        "# Function to search the Common Crawl Index\n",
        "def search_cc_index(url):\n",
        "    encoded_url = quote_plus(url)\n",
        "    index_url = f'{CC_INDEX_SERVER}{INDEX_NAME}-index?url={encoded_url}&output=json'\n",
        "    response = requests.get(index_url)\n",
        "    print(\"Response from CCI:\", response.text)  # Output the response from the server\n",
        "    if response.status_code == 200:\n",
        "        records = response.text.strip().split('\\n')\n",
        "        return [json.loads(record) for record in records]\n",
        "    else:\n",
        "        return None\n",
        "\n",
        "# Function to fetch the content from Common Crawl\n",
        "def fetch_page_from_cc(records):\n",
        "    for record in records:\n",
        "        offset, length = int(record['offset']), int(record['length'])\n",
        "        prefix = record['filename'].split('/')[0]\n",
        "        s3_url = f'https://data.commoncrawl.org/{record[\"filename\"]}'\n",
        "        response = requests.get(s3_url, headers={'Range': f'bytes={offset}-{offset+length-1}'})\n",
        "        if response.status_code == 206:\n",
        "            # Process the response content if necessary\n",
        "            # For example, you can use warcio to parse the WARC record\n",
        "            return response.content\n",
        "        else:\n",
        "            print(f\"Failed to fetch data: {response.status_code}\")\n",
        "            return None\n",
        "\n"
      ]
    },
    {
      "cell_type": "code",
      "source": [
        "target_url = \"www.atf-inc.com\""
      ],
      "metadata": {
        "id": "T3nbV8cW2C9L"
      },
      "execution_count": 2,
      "outputs": []
    },
    {
      "cell_type": "code",
      "source": [
        "def scrape(target_url):# Search the index for the target URL\n",
        "  records = search_cc_index(target_url)\n",
        "  if records:\n",
        "      print(f\"Found {len(records)} records for {target_url}\")\n",
        "\n",
        "      # Fetch the page content from the first record\n",
        "      content = fetch_page_from_cc(records)\n",
        "      if content:\n",
        "          print(f\"Successfully fetched content for {target_url}\")\n",
        "          # You can now process the 'content' variable as needed\n",
        "          return content\n",
        "  else:\n",
        "      print(f\"No records found for {target_url}\")"
      ],
      "metadata": {
        "id": "0GrxPM351vMp"
      },
      "execution_count": 3,
      "outputs": []
    },
    {
      "cell_type": "code",
      "source": [
        "import gdown\n",
        "\n",
        "url = 'https://drive.google.com/uc?id=1thWydc9rLFDzQTitjqm_ug9uxVFMuIyf'\n",
        "#html = 'fasteners.html'\n",
        "output = \"./\"\n",
        "gdown.download(url, output, quiet=False)"
      ],
      "metadata": {
        "id": "qp5rjWuVGVz_",
        "outputId": "f809d2e2-8253-4a8b-f2a6-af807453fcd7",
        "colab": {
          "base_uri": "https://localhost:8080/",
          "height": 104
        }
      },
      "execution_count": 4,
      "outputs": [
        {
          "output_type": "stream",
          "name": "stderr",
          "text": [
            "Downloading...\n",
            "From: https://drive.google.com/uc?id=1thWydc9rLFDzQTitjqm_ug9uxVFMuIyf\n",
            "To: /content/fasteners.html\n",
            "100%|██████████| 338k/338k [00:00<00:00, 454MB/s]\n"
          ]
        },
        {
          "output_type": "execute_result",
          "data": {
            "text/plain": [
              "'./fasteners.html'"
            ],
            "application/vnd.google.colaboratory.intrinsic+json": {
              "type": "string"
            }
          },
          "metadata": {},
          "execution_count": 4
        }
      ]
    },
    {
      "cell_type": "code",
      "source": [
        "!pip install beautifulsoup4\n",
        "from bs4 import BeautifulSoup\n",
        "import pandas as pd"
      ],
      "metadata": {
        "id": "z0O6lPuM6mvN",
        "outputId": "978cd498-c96c-4e0b-a843-dd1281042a98",
        "colab": {
          "base_uri": "https://localhost:8080/"
        }
      },
      "execution_count": 5,
      "outputs": [
        {
          "output_type": "stream",
          "name": "stdout",
          "text": [
            "Requirement already satisfied: beautifulsoup4 in /usr/local/lib/python3.10/dist-packages (4.12.3)\n",
            "Requirement already satisfied: soupsieve>1.2 in /usr/local/lib/python3.10/dist-packages (from beautifulsoup4) (2.5)\n"
          ]
        }
      ]
    },
    {
      "cell_type": "code",
      "source": [
        "# Load the newly uploaded HTML file\n",
        "with open('./fasteners.html', 'r', encoding='utf-8') as file:\n",
        "    latest_html_content = file.read()\n",
        "\n",
        "# Parse the HTML content\n",
        "latest_soup = BeautifulSoup(latest_html_content, 'html.parser')\n",
        "\n",
        "# Extract all company names and their URLs in <p class=\"company-link\">\n",
        "latest_company_info = []\n",
        "\n",
        "# Loop through all <p class=\"company-link\"> tags\n",
        "for para in latest_soup.find_all('p', class_='company-link'):\n",
        "#for para in latest_soup.find_all('p', class_='title-text'):\n",
        "    company_name_tag = para.find_previous_sibling('p')\n",
        "    #if company_name_tag and '–' in company_name_tag.text:\n",
        "    company_name = company_name_tag.text.strip()\n",
        "    next_a_tag = para.find('a', href=True)\n",
        "    if next_a_tag:\n",
        "      latest_company_info.append((company_name, next_a_tag['href']))\n",
        "\n",
        "# Display the extracted information\n",
        "#import ace_tools as tools; tools.display_dataframe_to_user(name=\"Company Information\", dataframe=pd.DataFrame(latest_company_info, columns=[\"Company Name\", \"URL\"]))\n",
        "\n",
        "#latest_company_info\n"
      ],
      "metadata": {
        "id": "xbSlkRg34rQY"
      },
      "execution_count": 6,
      "outputs": []
    },
    {
      "cell_type": "code",
      "source": [
        "latest_company_info"
      ],
      "metadata": {
        "colab": {
          "base_uri": "https://localhost:8080/"
        },
        "id": "xBmMdbfD6pha",
        "outputId": "a9a6eae3-c9ef-4618-e894-1454375a4478"
      },
      "execution_count": 7,
      "outputs": [
        {
          "output_type": "execute_result",
          "data": {
            "text/plain": [
              "[('Acument Global Technologies', 'http://www.acument.com/'),\n",
              " ('AFI Industries, Inc.', 'http://www.afiindustries.com/'),\n",
              " ('Agrati, Inc.', 'http://www.agrati.com/'),\n",
              " ('Arnold Fastening Systems, Inc.', 'http://www.arnold-fastening.com/'),\n",
              " ('Auto Bolt', 'http://www.autobolt.net/'),\n",
              " ('B & B Specialties, Inc.', 'http://www.bbspecialties.com/'),\n",
              " ('Birmingham Fastener, Inc.', 'http://www.bhamfast.com/'),\n",
              " ('Böllhoff, Inc.', 'http://www.bollhoff.com/'),\n",
              " ('Brico Industries, Inc.', 'http://www.bricoind.com/'),\n",
              " ('Celo USA – Trident Fasteners', 'http://www.celofasteners.com/'),\n",
              " ('Chicago Fastener Manufacturing', 'http://www.chicagofastener.com/'),\n",
              " ('Chicago Rivet & Machine Co.', 'http://www.chicagorivet.com/'),\n",
              " ('Click Bond, Inc.', 'http://www.clickbond.com/'),\n",
              " ('CMC Anchoring Systems', 'http://www.cmc.com/'),\n",
              " ('Cold Heading Company', 'http://www.coldheading.com/'),\n",
              " ('CSM Fastener Products', 'http://www.csmfastenerproducts.com/'),\n",
              " ('Dexter Fastener Technologies, Inc.', 'http://www.dextech.net/'),\n",
              " ('EJOT ATF, LP', 'http://www.atf-inc.com/'),\n",
              " ('Elgin Fastener Group, LLC', 'http://www.elginfasteners.com/'),\n",
              " ('EPS, Inc.', 'http://www.engineeredpartsinc.com/'),\n",
              " ('Fall River Manufacturing Co., Inc.', 'http://www.fallrivermfg.com/'),\n",
              " ('Formnet, Inc.', 'http://www.formnetinc.net/'),\n",
              " ('Freeway Corporation', 'http://www.freewaycorp.com/'),\n",
              " ('General Plug & Manufacturing Co.', 'http://www.generalplug.com/'),\n",
              " ('Haydon Bolts, Inc. & Affiliates', 'http://www.haydonbolts.com/'),\n",
              " ('Heartland Precision Fasteners, Inc.', 'http://www.heartlandfasteners.com/'),\n",
              " ('Hi-Shear Corporation, A Subsidiary of LISI Aerospace',\n",
              "  'http://www.lisi-group.com/'),\n",
              " ('Howmet Fastening Systems', 'http://www.howmet.com/'),\n",
              " ('Industrial Nut Corporation', 'http://www.industrialnut.com/'),\n",
              " ('Industrial Rivet & Fastener', 'http://www.rivet.com/'),\n",
              " ('Indux, SA de CV', 'http://www.indux.mx/'),\n",
              " ('Infasco/Ifastgroupe', 'http://www.infasco.com/'),\n",
              " ('ITW Shakeproof Automotive', 'http://www.itwshakeproof.com/'),\n",
              " ('JM Tor Par', 'http://www.jmtorpar.com/'),\n",
              " ('Kamax Inc.', 'http://www.kamax.com/'),\n",
              " ('Kerr Lakeside Inc.', 'http://www.kerrlakeside.com/'),\n",
              " ('Leland Industries Inc.', 'http://www.lelandindustries.com/'),\n",
              " ('Level 1 Fasteners Inc.', 'http://www.level1fasteners.com/'),\n",
              " ('MacLean-Fogg Company', 'http://www.macleanfoggcs.com/'),\n",
              " ('Mid West Fabricating Co.', 'http://www.midwestfab.com/'),\n",
              " ('MNP Corporation', 'http://www.mnp.com/'),\n",
              " ('MW Components', 'http://www.mwcomponents.com/'),\n",
              " ('Nova Machine Products, Inc.', 'http://www.nova.cwfc.com/'),\n",
              " ('Nucor Fastener', 'http://www.nucor-fastener.com/'),\n",
              " ('Nylok LLC', 'http://www.nylok.com/'),\n",
              " ('Pacific Bolt Manufacturing LTD.', 'http://www.pacbolt.com/'),\n",
              " ('Parker Fasteners LLC', 'http://www.parkerfasteners.com/'),\n",
              " ('PCC-SPS Fastener Division', 'http://wwwprecast.com/'),\n",
              " ('Penn Engineering & Manufacturing Corp.', 'http://www.pemnet.com/'),\n",
              " ('Perigee Manufacturing Company, Inc.', 'http://www.perigeemfg.com/'),\n",
              " ('Prestige Stamping, LLC', 'http://www.prestigestamping.com/'),\n",
              " ('Safety Socket LLC', 'http://www.safetysocket.com/'),\n",
              " ('Seaway Bolt & Specials Corp.', 'http://www.seawaybolt.com/'),\n",
              " ('Semblex Corporation', 'http://www.semblex.com/'),\n",
              " ('Sems and Specials, Inc.', 'http://www.semsandspecials.com/'),\n",
              " ('Shannon Precision Fastener, LLC', 'http://www.shannonpf.com/'),\n",
              " ('Spartan Fastener', 'http://www.spartanfastener.com/'),\n",
              " ('Stanley Engineered Fastening',\n",
              "  'http://www.stanleyengineeredfastening.com/'),\n",
              " ('The Hillman Group Canada ULC', 'http://www.hpaulin.com/'),\n",
              " ('The Young Engineers, Inc.', 'http://www.youngengineers.com/'),\n",
              " ('Topura America Fastener, Inc.', 'http://www.topuraaf.com/'),\n",
              " ('Tramec LLC', 'http://www.tramec.com/'),\n",
              " ('Trimas Aerospace', 'http://www.allfastinc.com/'),\n",
              " ('Turnasure LLC', 'http://www.turnasure.com/'),\n",
              " ('Unytite, Inc.', 'http://www.unytiteusa.com/'),\n",
              " ('Valley Fastener Group, LLC', 'http://www.valleyfastener.com/'),\n",
              " ('Valley Forge & Bolt Mfg. Co.', 'http://www.vfbolts.com/'),\n",
              " ('Vamp Company', 'http://www.vampcompany.com/'),\n",
              " ('Vegas Fastener Mfg.', 'http://www.vegasfastener.com/'),\n",
              " ('Vico Products Co.', 'http://www.vico.com/'),\n",
              " ('Western Wire Products', 'http://www.westernwireprod.com/'),\n",
              " ('Wrought Washer Mfg., Inc.', 'http://www.wroughtwasher.com/'),\n",
              " ('Attica Automation', 'http://www.atticaautomation.com/'),\n",
              " ('Atotech USA, LLC', 'http://www.atotech.com/'),\n",
              " ('Arcelormittal Long Products Canada', 'http://www.arcelormittal.com/'),\n",
              " ('Angor Incorporated', 'http://www.angor-intools.com/'),\n",
              " ('AAA Plating & Inspection, Inc.', 'http://www.aaaplating.com/'),\n",
              " ('Adept Fasteners, Inc.', 'http://www.adeptfasteners.com/')]"
            ]
          },
          "metadata": {},
          "execution_count": 7
        }
      ]
    },
    {
      "cell_type": "code",
      "source": [
        "urls_to_fetch = []\n",
        "for item in latest_company_info:\n",
        "  urls_to_fetch.append(item[1])"
      ],
      "metadata": {
        "id": "wuyniHtb816t"
      },
      "execution_count": 8,
      "outputs": []
    },
    {
      "cell_type": "code",
      "source": [
        "import time"
      ],
      "metadata": {
        "id": "gsEJEPYiCHvQ"
      },
      "execution_count": 9,
      "outputs": []
    },
    {
      "cell_type": "code",
      "source": [
        "content_list = {}\n",
        "for item in latest_company_info:\n",
        "  content_list[item[0]] = (scrape(item[1]))\n",
        "  time.sleep(20)"
      ],
      "metadata": {
        "colab": {
          "base_uri": "https://localhost:8080/"
        },
        "id": "KktYmrrR9H76",
        "outputId": "ef612d5e-8fe2-42a7-a141-d28217755238"
      },
      "execution_count": 10,
      "outputs": [
        {
          "output_type": "stream",
          "name": "stdout",
          "text": [
            "Response from CCI: {\"urlkey\": \"com,acument)/\", \"timestamp\": \"20230928203447\", \"url\": \"http://www.acument.com/\", \"mime\": \"text/html\", \"mime-detected\": \"text/html\", \"status\": \"406\", \"digest\": \"DXI2LRHAQOJGQSZF3D3M7V6WOC25TW4Z\", \"length\": \"651\", \"offset\": \"2065790\", \"filename\": \"crawl-data/CC-MAIN-2023-40/segments/1695233510454.60/crawldiagnostics/CC-MAIN-20230928194838-20230928224838-00739.warc.gz\"}\n",
            "\n",
            "Found 1 records for http://www.acument.com/\n",
            "Successfully fetched content for http://www.acument.com/\n",
            "Response from CCI: {\"urlkey\": \"com,afiindustries)/\", \"timestamp\": \"20230925004122\", \"url\": \"http://www.afiindustries.com/\", \"mime\": \"text/plain\", \"mime-detected\": \"text/plain\", \"status\": \"301\", \"digest\": \"NJOGTVI7R5XR5ZCAUWHDBZKT36NOGPDW\", \"length\": \"564\", \"offset\": \"1713906\", \"filename\": \"crawl-data/CC-MAIN-2023-40/segments/1695233506669.96/crawldiagnostics/CC-MAIN-20230924223409-20230925013409-00844.warc.gz\", \"redirect\": \"https://www.afiindustries.com/\"}\n",
            "{\"urlkey\": \"com,afiindustries)/\", \"timestamp\": \"20230925004123\", \"url\": \"https://afiindustries.com/\", \"mime\": \"text/html\", \"mime-detected\": \"text/html\", \"status\": \"200\", \"digest\": \"JHFDVKJRODHUNMYXMTWSUDKCTU2IETDN\", \"length\": \"19986\", \"offset\": \"104554048\", \"filename\": \"crawl-data/CC-MAIN-2023-40/segments/1695233506669.96/warc/CC-MAIN-20230924223409-20230925013409-00632.warc.gz\", \"languages\": \"eng\", \"encoding\": \"UTF-8\"}\n",
            "{\"urlkey\": \"com,afiindustries)/\", \"timestamp\": \"20230925004123\", \"url\": \"https://www.afiindustries.com/\", \"mime\": \"text/html\", \"mime-detected\": \"text/html\", \"status\": \"301\", \"digest\": \"3I42H3S6NNFQ2MSVX7XZKYAYSCX5QBYJ\", \"length\": \"671\", \"offset\": \"24621189\", \"filename\": \"crawl-data/CC-MAIN-2023-40/segments/1695233506669.96/crawldiagnostics/CC-MAIN-20230924223409-20230925013409-00835.warc.gz\", \"redirect\": \"https://afiindustries.com/\"}\n",
            "\n",
            "Found 3 records for http://www.afiindustries.com/\n",
            "Successfully fetched content for http://www.afiindustries.com/\n",
            "Response from CCI: {\"message\": \"No Captures found for: http://www.agrati.com/\"}\n",
            "No records found for http://www.agrati.com/\n",
            "Response from CCI: {\"message\": \"No Captures found for: http://www.arnold-fastening.com/\"}\n",
            "No records found for http://www.arnold-fastening.com/\n",
            "Response from CCI: {\"message\": \"No Captures found for: http://www.autobolt.net/\"}\n",
            "No records found for http://www.autobolt.net/\n",
            "Response from CCI: {\"urlkey\": \"com,bbspecialties)/\", \"timestamp\": \"20230926185121\", \"url\": \"http://www.bbspecialties.com/\", \"mime\": \"text/html\", \"mime-detected\": \"text/html\", \"status\": \"301\", \"digest\": \"HLNR6AWVWYCU3YAENY3HYHLIPNWN66X7\", \"length\": \"588\", \"offset\": \"1993392\", \"filename\": \"crawl-data/CC-MAIN-2023-40/segments/1695233510219.5/crawldiagnostics/CC-MAIN-20230926175325-20230926205325-00856.warc.gz\", \"redirect\": \"https://bbspecialties.com/\"}\n",
            "{\"urlkey\": \"com,bbspecialties)/\", \"timestamp\": \"20230926185121\", \"url\": \"https://bbspecialties.com/\", \"mime\": \"text/html\", \"mime-detected\": \"application/xhtml+xml\", \"status\": \"200\", \"digest\": \"B53G3FWNVD6DINPT42BYXMEKBTQJ3TNL\", \"length\": \"5966\", \"offset\": \"138454718\", \"filename\": \"crawl-data/CC-MAIN-2023-40/segments/1695233510219.5/warc/CC-MAIN-20230926175325-20230926205325-00644.warc.gz\", \"languages\": \"eng\", \"encoding\": \"ISO-8859-1\"}\n",
            "\n",
            "Found 2 records for http://www.bbspecialties.com/\n",
            "Successfully fetched content for http://www.bbspecialties.com/\n",
            "Response from CCI: {\"urlkey\": \"com,bhamfast)/\", \"timestamp\": \"20230921113153\", \"url\": \"http://bhamfast.com/\", \"mime\": \"text/html\", \"mime-detected\": \"text/html\", \"status\": \"301\", \"digest\": \"3I42H3S6NNFQ2MSVX7XZKYAYSCX5QBYJ\", \"length\": \"838\", \"offset\": \"244153\", \"filename\": \"crawl-data/CC-MAIN-2023-40/segments/1695233506027.39/crawldiagnostics/CC-MAIN-20230921105806-20230921135806-00725.warc.gz\", \"redirect\": \"https://www.bhamfast.com/\"}\n",
            "{\"urlkey\": \"com,bhamfast)/\", \"timestamp\": \"20230921113153\", \"url\": \"https://www.bhamfast.com/\", \"mime\": \"text/html\", \"mime-detected\": \"text/html\", \"status\": \"200\", \"digest\": \"WR7RKZMFAPJC6CT7ATISXED5RF7KU66N\", \"length\": \"21822\", \"offset\": \"747083404\", \"filename\": \"crawl-data/CC-MAIN-2023-40/segments/1695233506027.39/warc/CC-MAIN-20230921105806-20230921135806-00335.warc.gz\", \"languages\": \"eng\", \"encoding\": \"UTF-8\"}\n",
            "{\"urlkey\": \"com,bhamfast)/\", \"timestamp\": \"20230922023623\", \"url\": \"https://www.bhamfast.com/\", \"mime\": \"text/html\", \"mime-detected\": \"text/html\", \"status\": \"200\", \"digest\": \"UXM6VYOVTAYUORWO3JNKBQ4U7GEZX6XN\", \"length\": \"21830\", \"offset\": \"750675232\", \"filename\": \"crawl-data/CC-MAIN-2023-40/segments/1695233506320.28/warc/CC-MAIN-20230922002008-20230922032008-00335.warc.gz\", \"languages\": \"eng\", \"encoding\": \"UTF-8\"}\n",
            "\n",
            "Found 3 records for http://www.bhamfast.com/\n",
            "Successfully fetched content for http://www.bhamfast.com/\n",
            "Response from CCI: {\"message\": \"No Captures found for: http://www.bollhoff.com/\"}\n",
            "No records found for http://www.bollhoff.com/\n",
            "Response from CCI: {\"message\": \"No Captures found for: http://www.bricoind.com/\"}\n",
            "No records found for http://www.bricoind.com/\n",
            "Response from CCI: {\"message\": \"No Captures found for: http://www.celofasteners.com/\"}\n",
            "No records found for http://www.celofasteners.com/\n",
            "Response from CCI: {\"urlkey\": \"com,chicagofastener)/\", \"timestamp\": \"20230925122825\", \"url\": \"https://www.chicagofastener.com/\", \"mime\": \"text/html\", \"mime-detected\": \"text/html\", \"status\": \"200\", \"digest\": \"XJV4CD74YYIGWXLS5QF27SVLWLC55TT3\", \"length\": \"7091\", \"offset\": \"779491200\", \"filename\": \"crawl-data/CC-MAIN-2023-40/segments/1695233508977.50/warc/CC-MAIN-20230925115505-20230925145505-00467.warc.gz\", \"languages\": \"eng\", \"encoding\": \"UTF-8\"}\n",
            "\n",
            "Found 1 records for http://www.chicagofastener.com/\n",
            "Successfully fetched content for http://www.chicagofastener.com/\n",
            "Response from CCI: {\"urlkey\": \"com,chicagorivet)/\", \"timestamp\": \"20230922225029\", \"url\": \"https://www.chicagorivet.com/\", \"mime\": \"text/html\", \"mime-detected\": \"text/html\", \"status\": \"200\", \"digest\": \"YUDB4V4JSMZSTZVVOF5LC2CY67KCBUWD\", \"length\": \"7087\", \"offset\": \"783742778\", \"filename\": \"crawl-data/CC-MAIN-2023-40/segments/1695233506423.70/warc/CC-MAIN-20230922202444-20230922232444-00833.warc.gz\", \"languages\": \"eng\", \"encoding\": \"UTF-8\"}\n",
            "\n",
            "Found 1 records for http://www.chicagorivet.com/\n",
            "Successfully fetched content for http://www.chicagorivet.com/\n",
            "Response from CCI: {\"urlkey\": \"com,clickbond)/\", \"timestamp\": \"20230925105354\", \"url\": \"https://www.clickbond.com/\", \"mime\": \"text/html\", \"mime-detected\": \"text/html\", \"status\": \"200\", \"digest\": \"YM3RGIS6LKXFXHZPXTWK4X2AV5SUGYGC\", \"length\": \"8494\", \"offset\": \"771887875\", \"filename\": \"crawl-data/CC-MAIN-2023-40/segments/1695233508959.20/warc/CC-MAIN-20230925083430-20230925113430-00652.warc.gz\", \"languages\": \"eng\", \"encoding\": \"UTF-8\"}\n",
            "{\"urlkey\": \"com,clickbond)/\", \"timestamp\": \"20230926181853\", \"url\": \"https://www.clickbond.com/\", \"mime\": \"text/html\", \"mime-detected\": \"text/html\", \"status\": \"200\", \"digest\": \"YM3RGIS6LKXFXHZPXTWK4X2AV5SUGYGC\", \"length\": \"8496\", \"offset\": \"780704016\", \"filename\": \"crawl-data/CC-MAIN-2023-40/segments/1695233510219.5/warc/CC-MAIN-20230926175325-20230926205325-00652.warc.gz\", \"languages\": \"eng\", \"encoding\": \"UTF-8\"}\n",
            "{\"urlkey\": \"com,clickbond)/\", \"timestamp\": \"20230926184254\", \"url\": \"https://clickbond.com/\", \"mime\": \"text/html\", \"mime-detected\": \"text/html\", \"status\": \"301\", \"digest\": \"YM3RGIS6LKXFXHZPXTWK4X2AV5SUGYGC\", \"length\": \"8470\", \"offset\": \"8101362\", \"filename\": \"crawl-data/CC-MAIN-2023-40/segments/1695233510219.5/crawldiagnostics/CC-MAIN-20230926175325-20230926205325-00461.warc.gz\", \"redirect\": \"https://www.clickbond.com/\"}\n",
            "\n",
            "Found 3 records for http://www.clickbond.com/\n",
            "Successfully fetched content for http://www.clickbond.com/\n",
            "Response from CCI: {\"urlkey\": \"com,cmc)/\", \"timestamp\": \"20230923075159\", \"url\": \"https://www.cmc.com\", \"mime\": \"text/html\", \"mime-detected\": \"text/html\", \"status\": \"200\", \"digest\": \"7RRT64S6Y37RPDLI4CYV5OOLZKU5MKJJ\", \"length\": \"25713\", \"offset\": \"766346186\", \"filename\": \"crawl-data/CC-MAIN-2023-40/segments/1695233506480.35/warc/CC-MAIN-20230923062631-20230923092631-00617.warc.gz\", \"languages\": \"eng\", \"encoding\": \"UTF-8\"}\n",
            "{\"urlkey\": \"com,cmc)/\", \"timestamp\": \"20230927004543\", \"url\": \"https://www.cmc.com/\", \"mime\": \"text/html\", \"mime-detected\": \"text/html\", \"status\": \"200\", \"digest\": \"7RRT64S6Y37RPDLI4CYV5OOLZKU5MKJJ\", \"length\": \"25718\", \"offset\": \"779655806\", \"filename\": \"crawl-data/CC-MAIN-2023-40/segments/1695233510238.65/warc/CC-MAIN-20230927003313-20230927033313-00482.warc.gz\", \"languages\": \"eng\", \"encoding\": \"UTF-8\"}\n",
            "{\"urlkey\": \"com,cmc)/\", \"timestamp\": \"20230927013119\", \"url\": \"https://www.cmc.com\", \"mime\": \"text/html\", \"mime-detected\": \"text/html\", \"status\": \"200\", \"digest\": \"7RRT64S6Y37RPDLI4CYV5OOLZKU5MKJJ\", \"length\": \"25719\", \"offset\": \"762215536\", \"filename\": \"crawl-data/CC-MAIN-2023-40/segments/1695233510238.65/warc/CC-MAIN-20230927003313-20230927033313-00617.warc.gz\", \"languages\": \"eng\", \"encoding\": \"UTF-8\"}\n",
            "{\"urlkey\": \"com,cmc)/\", \"timestamp\": \"20231004124234\", \"url\": \"https://www.cmc.com\", \"mime\": \"text/html\", \"mime-detected\": \"text/html\", \"status\": \"200\", \"digest\": \"O4NDBCGDF27HB4GWHQYWCOVUHNCWTHRQ\", \"length\": \"25571\", \"offset\": \"756755264\", \"filename\": \"crawl-data/CC-MAIN-2023-40/segments/1695233511369.62/warc/CC-MAIN-20231004120203-20231004150203-00617.warc.gz\", \"languages\": \"eng\", \"encoding\": \"UTF-8\"}\n",
            "\n",
            "Found 4 records for http://www.cmc.com/\n",
            "Successfully fetched content for http://www.cmc.com/\n",
            "Response from CCI: {\"message\": \"No Captures found for: http://www.coldheading.com/\"}\n",
            "No records found for http://www.coldheading.com/\n",
            "Response from CCI: {\"urlkey\": \"com,csmfastenerproducts)/\", \"timestamp\": \"20231003043659\", \"url\": \"https://csmfastenerproducts.com\", \"mime\": \"text/html\", \"mime-detected\": \"text/html\", \"status\": \"200\", \"digest\": \"IE6YFLHO32JMWMFK3SDBJNHB26DJDAUJ\", \"length\": \"6728\", \"offset\": \"208344462\", \"filename\": \"crawl-data/CC-MAIN-2023-40/segments/1695233511053.67/warc/CC-MAIN-20231003024646-20231003054646-00798.warc.gz\", \"languages\": \"eng\", \"encoding\": \"UTF-8\"}\n",
            "\n",
            "Found 1 records for http://www.csmfastenerproducts.com/\n",
            "Successfully fetched content for http://www.csmfastenerproducts.com/\n",
            "Response from CCI: {\"message\": \"No Captures found for: http://www.dextech.net/\"}\n",
            "No records found for http://www.dextech.net/\n",
            "Response from CCI: {\"urlkey\": \"com,atf-inc)/\", \"timestamp\": \"20230926020010\", \"url\": \"https://www.atf-inc.com/\", \"mime\": \"text/html\", \"mime-detected\": \"text/html\", \"status\": \"200\", \"digest\": \"4E2DLVPMISU6FRQIB2MZJ2UQAFIV2BK2\", \"length\": \"6804\", \"offset\": \"711468986\", \"filename\": \"crawl-data/CC-MAIN-2023-40/segments/1695233510130.53/warc/CC-MAIN-20230926011608-20230926041608-00851.warc.gz\", \"languages\": \"eng\", \"encoding\": \"UTF-8\"}\n",
            "{\"urlkey\": \"com,atf-inc)/\", \"timestamp\": \"20230929194815\", \"url\": \"http://atf-inc.com/\", \"mime\": \"text/html\", \"mime-detected\": \"text/html\", \"status\": \"301\", \"digest\": \"HLNR6AWVWYCU3YAENY3HYHLIPNWN66X7\", \"length\": \"626\", \"offset\": \"133813\", \"filename\": \"crawl-data/CC-MAIN-2023-40/segments/1695233510528.86/crawldiagnostics/CC-MAIN-20230929190403-20230929220403-00585.warc.gz\", \"redirect\": \"http://www.atf-inc.com/\"}\n",
            "{\"urlkey\": \"com,atf-inc)/\", \"timestamp\": \"20230929194815\", \"url\": \"http://www.atf-inc.com/\", \"mime\": \"text/html\", \"mime-detected\": \"text/html\", \"status\": \"301\", \"digest\": \"HLNR6AWVWYCU3YAENY3HYHLIPNWN66X7\", \"length\": \"626\", \"offset\": \"1709404\", \"filename\": \"crawl-data/CC-MAIN-2023-40/segments/1695233510528.86/crawldiagnostics/CC-MAIN-20230929190403-20230929220403-00804.warc.gz\", \"redirect\": \"https://www.atf-inc.com/\"}\n",
            "{\"urlkey\": \"com,atf-inc)/\", \"timestamp\": \"20230929194815\", \"url\": \"https://www.atf-inc.com/\", \"mime\": \"text/html\", \"mime-detected\": \"text/html\", \"status\": \"200\", \"digest\": \"4E2DLVPMISU6FRQIB2MZJ2UQAFIV2BK2\", \"length\": \"6801\", \"offset\": \"690273850\", \"filename\": \"crawl-data/CC-MAIN-2023-40/segments/1695233510528.86/warc/CC-MAIN-20230929190403-20230929220403-00851.warc.gz\", \"languages\": \"eng\", \"encoding\": \"UTF-8\"}\n",
            "{\"urlkey\": \"com,atf-inc)/\", \"timestamp\": \"20231002173714\", \"url\": \"http://www.atf-inc.com\", \"mime\": \"text/html\", \"mime-detected\": \"text/html\", \"status\": \"301\", \"digest\": \"HLNR6AWVWYCU3YAENY3HYHLIPNWN66X7\", \"length\": \"625\", \"offset\": \"1923601\", \"filename\": \"crawl-data/CC-MAIN-2023-40/segments/1695233511002.91/crawldiagnostics/CC-MAIN-20231002164819-20231002194819-00667.warc.gz\", \"redirect\": \"https://www.atf-inc.com/\"}\n",
            "{\"urlkey\": \"com,atf-inc)/\", \"timestamp\": \"20231002173715\", \"url\": \"https://www.atf-inc.com/\", \"mime\": \"text/html\", \"mime-detected\": \"text/html\", \"status\": \"200\", \"digest\": \"4E2DLVPMISU6FRQIB2MZJ2UQAFIV2BK2\", \"length\": \"6806\", \"offset\": \"687749635\", \"filename\": \"crawl-data/CC-MAIN-2023-40/segments/1695233511002.91/warc/CC-MAIN-20231002164819-20231002194819-00851.warc.gz\", \"languages\": \"eng\", \"encoding\": \"UTF-8\"}\n",
            "\n",
            "Found 6 records for http://www.atf-inc.com/\n",
            "Successfully fetched content for http://www.atf-inc.com/\n",
            "Response from CCI: {\"message\": \"No Captures found for: http://www.elginfasteners.com/\"}\n",
            "No records found for http://www.elginfasteners.com/\n",
            "Response from CCI: {\"urlkey\": \"com,engineeredpartsinc)/\", \"timestamp\": \"20230928070042\", \"url\": \"https://www.engineeredpartsinc.com/\", \"mime\": \"text/html\", \"mime-detected\": \"text/html\", \"status\": \"200\", \"digest\": \"GIFEJKOGG2YPM6DAPARL7RTGBIEPQT7X\", \"length\": \"8462\", \"offset\": \"818725076\", \"filename\": \"crawl-data/CC-MAIN-2023-40/segments/1695233510368.33/warc/CC-MAIN-20230928063033-20230928093033-00037.warc.gz\", \"languages\": \"eng\", \"encoding\": \"UTF-8\"}\n",
            "\n",
            "Found 1 records for http://www.engineeredpartsinc.com/\n",
            "Successfully fetched content for http://www.engineeredpartsinc.com/\n",
            "Response from CCI: {\"message\": \"No Captures found for: http://www.fallrivermfg.com/\"}\n",
            "No records found for http://www.fallrivermfg.com/\n",
            "Response from CCI: {\"message\": \"No Captures found for: http://www.formnetinc.net/\"}\n",
            "No records found for http://www.formnetinc.net/\n",
            "Response from CCI: {\"message\": \"No Captures found for: http://www.freewaycorp.com/\"}\n",
            "No records found for http://www.freewaycorp.com/\n",
            "Response from CCI: {\"message\": \"No Captures found for: http://www.generalplug.com/\"}\n",
            "No records found for http://www.generalplug.com/\n",
            "Response from CCI: {\"message\": \"No Captures found for: http://www.haydonbolts.com/\"}\n",
            "No records found for http://www.haydonbolts.com/\n",
            "Response from CCI: {\"message\": \"No Captures found for: http://www.heartlandfasteners.com/\"}\n",
            "No records found for http://www.heartlandfasteners.com/\n",
            "Response from CCI: {\"message\": \"No Captures found for: http://www.lisi-group.com/\"}\n",
            "No records found for http://www.lisi-group.com/\n",
            "Response from CCI: {\"urlkey\": \"com,howmet)/\", \"timestamp\": \"20231001211845\", \"url\": \"https://www.howmet.com/\", \"mime\": \"text/html\", \"mime-detected\": \"text/html\", \"status\": \"200\", \"digest\": \"WQHMXZFCRPYY7QRXHKFSRZBB6D724BTM\", \"length\": \"23966\", \"offset\": \"887642240\", \"filename\": \"crawl-data/CC-MAIN-2023-40/segments/1695233510941.58/warc/CC-MAIN-20231001205332-20231001235332-00565.warc.gz\", \"languages\": \"eng\", \"encoding\": \"UTF-8\"}\n",
            "{\"urlkey\": \"com,howmet)/\", \"timestamp\": \"20231003225202\", \"url\": \"http://www.Howmet.com\", \"mime\": \"text/html\", \"mime-detected\": \"text/html\", \"status\": \"301\", \"digest\": \"HLNR6AWVWYCU3YAENY3HYHLIPNWN66X7\", \"length\": \"563\", \"offset\": \"2010914\", \"filename\": \"crawl-data/CC-MAIN-2023-40/segments/1695233511284.37/crawldiagnostics/CC-MAIN-20231003224357-20231004014357-00743.warc.gz\", \"redirect\": \"https://www.howmet.com/\"}\n",
            "{\"urlkey\": \"com,howmet)/\", \"timestamp\": \"20231003225202\", \"url\": \"https://www.howmet.com/\", \"mime\": \"text/html\", \"mime-detected\": \"text/html\", \"status\": \"200\", \"digest\": \"RVW5JC4EILDRREE4HB73AHZROWNTB2W3\", \"length\": \"23964\", \"offset\": \"873899422\", \"filename\": \"crawl-data/CC-MAIN-2023-40/segments/1695233511284.37/warc/CC-MAIN-20231003224357-20231004014357-00565.warc.gz\", \"languages\": \"eng\", \"encoding\": \"UTF-8\"}\n",
            "\n",
            "Found 3 records for http://www.howmet.com/\n",
            "Successfully fetched content for http://www.howmet.com/\n",
            "Response from CCI: {\"urlkey\": \"com,industrialnut)/\", \"timestamp\": \"20230921191747\", \"url\": \"https://industrialnut.com/\", \"mime\": \"text/html\", \"mime-detected\": \"text/html\", \"status\": \"200\", \"digest\": \"L6IOLYJSEQFGIXJPLFX7FJS4ZLIZZ6PB\", \"length\": \"60668\", \"offset\": \"352759675\", \"filename\": \"crawl-data/CC-MAIN-2023-40/segments/1695233506029.42/warc/CC-MAIN-20230921174008-20230921204008-00384.warc.gz\", \"languages\": \"eng\", \"encoding\": \"UTF-8\"}\n",
            "\n",
            "Found 1 records for http://www.industrialnut.com/\n",
            "Successfully fetched content for http://www.industrialnut.com/\n",
            "Response from CCI: <html>\n",
            "<head><title>504 Gateway Time-out</title></head>\n",
            "<body>\n",
            "<center><h1>504 Gateway Time-out</h1></center>\n",
            "<hr><center>nginx/1.18.0 (Ubuntu)</center>\n",
            "</body>\n",
            "</html>\n",
            "\n",
            "No records found for http://www.rivet.com/\n",
            "Response from CCI: {\"message\": \"No Captures found for: http://www.indux.mx/\"}\n",
            "No records found for http://www.indux.mx/\n",
            "Response from CCI: {\"message\": \"No Captures found for: http://www.infasco.com/\"}\n",
            "No records found for http://www.infasco.com/\n",
            "Response from CCI: {\"urlkey\": \"com,itwshakeproof)/\", \"timestamp\": \"20230923120044\", \"url\": \"https://www.itwshakeproof.com/\", \"mime\": \"text/html\", \"mime-detected\": \"text/html\", \"status\": \"200\", \"digest\": \"ABOC6PH6QNEOWWJOGJLC4VTREN2TSIN4\", \"length\": \"40026\", \"offset\": \"941210540\", \"filename\": \"crawl-data/CC-MAIN-2023-40/segments/1695233506480.7/warc/CC-MAIN-20230923094750-20230923124750-00277.warc.gz\", \"languages\": \"eng\", \"encoding\": \"UTF-8\"}\n",
            "\n",
            "Found 1 records for http://www.itwshakeproof.com/\n",
            "Successfully fetched content for http://www.itwshakeproof.com/\n",
            "Response from CCI: {\"urlkey\": \"com,jmtorpar)/\", \"timestamp\": \"20230928003016\", \"url\": \"https://www.jmtorpar.com/\", \"mime\": \"text/html\", \"mime-detected\": \"text/html\", \"status\": \"200\", \"digest\": \"EK5KVC4Y7NLSB5RQZIJGWNU7MJHVR3LT\", \"length\": \"32625\", \"offset\": \"905608862\", \"filename\": \"crawl-data/CC-MAIN-2023-40/segments/1695233510334.9/warc/CC-MAIN-20230927235044-20230928025044-00208.warc.gz\", \"languages\": \"spa,eng\", \"encoding\": \"UTF-8\"}\n",
            "{\"urlkey\": \"com,jmtorpar)/\", \"timestamp\": \"20231003135012\", \"url\": \"http://jmtorpar.com/\", \"mime\": \"text/html\", \"mime-detected\": \"text/html\", \"status\": \"302\", \"digest\": \"VI2AOQKGIRXMWFQ4FF2NS6BAIYJNDYDQ\", \"length\": \"641\", \"offset\": \"1030471\", \"filename\": \"crawl-data/CC-MAIN-2023-40/segments/1695233511106.1/crawldiagnostics/CC-MAIN-20231003124522-20231003154522-00546.warc.gz\", \"redirect\": \"https://jmtorpar.com/\"}\n",
            "{\"urlkey\": \"com,jmtorpar)/\", \"timestamp\": \"20231003135016\", \"url\": \"https://jmtorpar.com/\", \"mime\": \"text/html\", \"mime-detected\": \"text/html\", \"status\": \"301\", \"digest\": \"3I42H3S6NNFQ2MSVX7XZKYAYSCX5QBYJ\", \"length\": \"573\", \"offset\": \"13042834\", \"filename\": \"crawl-data/CC-MAIN-2023-40/segments/1695233511106.1/crawldiagnostics/CC-MAIN-20231003124522-20231003154522-00371.warc.gz\", \"redirect\": \"https://www.jmtorpar.com/\"}\n",
            "{\"urlkey\": \"com,jmtorpar)/\", \"timestamp\": \"20231003135018\", \"url\": \"https://www.jmtorpar.com/\", \"mime\": \"text/html\", \"mime-detected\": \"text/html\", \"status\": \"200\", \"digest\": \"SHQYYPAF3TEHP4FFCL2Q2ZIAVAJ5S7OS\", \"length\": \"32628\", \"offset\": \"899595110\", \"filename\": \"crawl-data/CC-MAIN-2023-40/segments/1695233511106.1/warc/CC-MAIN-20231003124522-20231003154522-00208.warc.gz\", \"languages\": \"spa,eng\", \"encoding\": \"UTF-8\"}\n",
            "\n",
            "Found 4 records for http://www.jmtorpar.com/\n",
            "Successfully fetched content for http://www.jmtorpar.com/\n",
            "Response from CCI: {\"urlkey\": \"com,kamax)/\", \"timestamp\": \"20230925002958\", \"url\": \"https://www.kamax.com\", \"mime\": \"text/html\", \"mime-detected\": \"text/html\", \"status\": \"200\", \"digest\": \"CO765RMU4KBBG7FZ3ABGK767HNNGVWPR\", \"length\": \"14865\", \"offset\": \"919500413\", \"filename\": \"crawl-data/CC-MAIN-2023-40/segments/1695233506669.96/warc/CC-MAIN-20230924223409-20230925013409-00314.warc.gz\", \"languages\": \"deu,eng\", \"encoding\": \"UTF-8\"}\n",
            "{\"urlkey\": \"com,kamax)/\", \"timestamp\": \"20230926162304\", \"url\": \"https://kamax.com/\", \"mime\": \"text/html\", \"mime-detected\": \"text/html\", \"status\": \"301\", \"digest\": \"ZSRWUBENOMXKNCMCYMC552MDNPO4KV4Q\", \"length\": \"676\", \"offset\": \"12002255\", \"filename\": \"crawl-data/CC-MAIN-2023-40/segments/1695233510214.81/crawldiagnostics/CC-MAIN-20230926143354-20230926173354-00686.warc.gz\", \"redirect\": \"https://www.kamax.com/\"}\n",
            "{\"urlkey\": \"com,kamax)/\", \"timestamp\": \"20230926162305\", \"url\": \"https://www.kamax.com/\", \"mime\": \"text/html\", \"mime-detected\": \"text/html\", \"status\": \"200\", \"digest\": \"CO765RMU4KBBG7FZ3ABGK767HNNGVWPR\", \"length\": \"14849\", \"offset\": \"917802098\", \"filename\": \"crawl-data/CC-MAIN-2023-40/segments/1695233510214.81/warc/CC-MAIN-20230926143354-20230926173354-00453.warc.gz\", \"languages\": \"deu,eng\", \"encoding\": \"UTF-8\"}\n",
            "{\"urlkey\": \"com,kamax)/\", \"timestamp\": \"20230926165423\", \"url\": \"http://kamax.com/\", \"mime\": \"text/html\", \"mime-detected\": \"text/html\", \"status\": \"301\", \"digest\": \"ZSRWUBENOMXKNCMCYMC552MDNPO4KV4Q\", \"length\": \"678\", \"offset\": \"1078803\", \"filename\": \"crawl-data/CC-MAIN-2023-40/segments/1695233510214.81/crawldiagnostics/CC-MAIN-20230926143354-20230926173354-00251.warc.gz\", \"redirect\": \"https://www.kamax.com/\"}\n",
            "\n",
            "Found 4 records for http://www.kamax.com/\n",
            "Successfully fetched content for http://www.kamax.com/\n",
            "Response from CCI: {\"urlkey\": \"com,kerrlakeside)/\", \"timestamp\": \"20230929124716\", \"url\": \"https://kerrlakeside.com/\", \"mime\": \"text/html\", \"mime-detected\": \"text/html\", \"status\": \"200\", \"digest\": \"P3CN7RAGD72MHCYTNQZC6LGUJBCQ7NUY\", \"length\": \"11637\", \"offset\": \"379613829\", \"filename\": \"crawl-data/CC-MAIN-2023-40/segments/1695233510516.56/warc/CC-MAIN-20230929122500-20230929152500-00204.warc.gz\", \"languages\": \"eng\", \"encoding\": \"UTF-8\"}\n",
            "\n",
            "Found 1 records for http://www.kerrlakeside.com/\n",
            "Successfully fetched content for http://www.kerrlakeside.com/\n",
            "Response from CCI: {\"urlkey\": \"com,lelandindustries)/\", \"timestamp\": \"20231001013734\", \"url\": \"https://lelandindustries.com/\", \"mime\": \"text/html\", \"mime-detected\": \"text/html\", \"status\": \"406\", \"digest\": \"DXI2LRHAQOJGQSZF3D3M7V6WOC25TW4Z\", \"length\": \"653\", \"offset\": \"16130749\", \"filename\": \"crawl-data/CC-MAIN-2023-40/segments/1695233510734.55/crawldiagnostics/CC-MAIN-20231001005750-20231001035750-00028.warc.gz\"}\n",
            "\n",
            "Found 1 records for http://www.lelandindustries.com/\n",
            "Successfully fetched content for http://www.lelandindustries.com/\n",
            "Response from CCI: {\"urlkey\": \"com,level1fasteners)/\", \"timestamp\": \"20230923212021\", \"url\": \"https://level1fasteners.com/\", \"mime\": \"text/html\", \"mime-detected\": \"text/html\", \"status\": \"200\", \"digest\": \"P2QS7WUOSVQRQF2Y7OMUQHJPDGDVLFUY\", \"length\": \"10987\", \"offset\": \"411205289\", \"filename\": \"crawl-data/CC-MAIN-2023-40/segments/1695233506528.3/warc/CC-MAIN-20230923194908-20230923224908-00560.warc.gz\", \"languages\": \"eng\", \"encoding\": \"UTF-8\"}\n",
            "\n",
            "Found 1 records for http://www.level1fasteners.com/\n",
            "Successfully fetched content for http://www.level1fasteners.com/\n",
            "Response from CCI: {\"urlkey\": \"com,macleanfoggcs)/\", \"timestamp\": \"20231001225111\", \"url\": \"https://www.macleanfoggcs.com/\", \"mime\": \"text/html\", \"mime-detected\": \"application/xhtml+xml\", \"status\": \"200\", \"digest\": \"L4WGGAT57652NWCZ7IG3V3RWX6JUAVNO\", \"length\": \"11578\", \"offset\": \"968313071\", \"filename\": \"crawl-data/CC-MAIN-2023-40/segments/1695233510941.58/warc/CC-MAIN-20231001205332-20231001235332-00549.warc.gz\", \"languages\": \"eng\", \"encoding\": \"UTF-8\"}\n",
            "\n",
            "Found 1 records for http://www.macleanfoggcs.com/\n",
            "Successfully fetched content for http://www.macleanfoggcs.com/\n",
            "Response from CCI: {\"message\": \"No Captures found for: http://www.midwestfab.com/\"}\n",
            "No records found for http://www.midwestfab.com/\n",
            "Response from CCI: {\"urlkey\": \"com,mnp)/\", \"timestamp\": \"20230926191013\", \"url\": \"https://mnp.com/\", \"mime\": \"text/html\", \"mime-detected\": \"text/html\", \"status\": \"406\", \"digest\": \"DXI2LRHAQOJGQSZF3D3M7V6WOC25TW4Z\", \"length\": \"641\", \"offset\": \"14678038\", \"filename\": \"crawl-data/CC-MAIN-2023-40/segments/1695233510219.5/crawldiagnostics/CC-MAIN-20230926175325-20230926205325-00553.warc.gz\"}\n",
            "\n",
            "Found 1 records for http://www.mnp.com/\n",
            "Successfully fetched content for http://www.mnp.com/\n",
            "Response from CCI: {\"urlkey\": \"com,mwcomponents)/\", \"timestamp\": \"20230930194344\", \"url\": \"https://www.mwcomponents.com\", \"mime\": \"text/html\", \"mime-detected\": \"text/html\", \"status\": \"200\", \"digest\": \"P3QUY2MGBA6ECD25GHZY5Y5BOO6CECKA\", \"length\": \"48043\", \"offset\": \"987364698\", \"filename\": \"crawl-data/CC-MAIN-2023-40/segments/1695233510707.90/warc/CC-MAIN-20230930181852-20230930211852-00622.warc.gz\", \"languages\": \"eng\", \"encoding\": \"UTF-8\"}\n",
            "\n",
            "Found 1 records for http://www.mwcomponents.com/\n",
            "Successfully fetched content for http://www.mwcomponents.com/\n",
            "Response from CCI: {\"message\": \"No Captures found for: http://www.nova.cwfc.com/\"}\n",
            "No records found for http://www.nova.cwfc.com/\n",
            "Response from CCI: {\"urlkey\": \"com,nucor-fastener)/\", \"timestamp\": \"20231002010927\", \"url\": \"https://nucor-fastener.com/\", \"mime\": \"text/html\", \"mime-detected\": \"text/html\", \"status\": \"200\", \"digest\": \"FHVZLB7YH2RMAM6DBWSOV37V2ZXET6QI\", \"length\": \"2345\", \"offset\": \"476742684\", \"filename\": \"crawl-data/CC-MAIN-2023-40/segments/1695233510942.97/warc/CC-MAIN-20231002001302-20231002031302-00424.warc.gz\", \"encoding\": \"UTF-8\"}\n",
            "\n",
            "Found 1 records for http://www.nucor-fastener.com/\n",
            "Successfully fetched content for http://www.nucor-fastener.com/\n",
            "Response from CCI: {\"message\": \"No Captures found for: http://www.nylok.com/\"}\n",
            "No records found for http://www.nylok.com/\n",
            "Response from CCI: {\"urlkey\": \"com,pacbolt)/\", \"timestamp\": \"20230925090306\", \"url\": \"https://pacbolt.com/\", \"mime\": \"text/html\", \"mime-detected\": \"text/html\", \"status\": \"200\", \"digest\": \"UABASRPH4WNJKYO6HWFDDDZ6E7IUXRYC\", \"length\": \"17766\", \"offset\": \"481039617\", \"filename\": \"crawl-data/CC-MAIN-2023-40/segments/1695233508959.20/warc/CC-MAIN-20230925083430-20230925113430-00797.warc.gz\", \"languages\": \"eng\", \"encoding\": \"UTF-8\"}\n",
            "\n",
            "Found 1 records for http://www.pacbolt.com/\n",
            "Successfully fetched content for http://www.pacbolt.com/\n",
            "Response from CCI: {\"urlkey\": \"com,parkerfasteners)/\", \"timestamp\": \"20231003012239\", \"url\": \"https://parkerfasteners.com/\", \"mime\": \"text/html\", \"mime-detected\": \"text/html\", \"status\": \"200\", \"digest\": \"PFOHBWFIQFTOCBJAUNOX6T5VN3PDY6TH\", \"length\": \"28239\", \"offset\": \"476136793\", \"filename\": \"crawl-data/CC-MAIN-2023-40/segments/1695233511023.76/warc/CC-MAIN-20231002232712-20231003022712-00818.warc.gz\", \"languages\": \"eng\", \"encoding\": \"UTF-8\"}\n",
            "\n",
            "Found 1 records for http://www.parkerfasteners.com/\n",
            "Successfully fetched content for http://www.parkerfasteners.com/\n",
            "Response from CCI: {\"message\": \"No Captures found for: http://wwwprecast.com/\"}\n",
            "No records found for http://wwwprecast.com/\n",
            "Response from CCI: {\"message\": \"No Captures found for: http://www.pemnet.com/\"}\n",
            "No records found for http://www.pemnet.com/\n",
            "Response from CCI: {\"message\": \"No Captures found for: http://www.perigeemfg.com/\"}\n",
            "No records found for http://www.perigeemfg.com/\n",
            "Response from CCI: {\"urlkey\": \"com,prestigestamping)/\", \"timestamp\": \"20230928013257\", \"url\": \"https://prestigestamping.com/\", \"mime\": \"text/html\", \"mime-detected\": \"text/html\", \"status\": \"200\", \"digest\": \"Z546DIFW65RQMCSSNCDESTNQWGZOAU5X\", \"length\": \"861\", \"offset\": \"517374715\", \"filename\": \"crawl-data/CC-MAIN-2023-40/segments/1695233510334.9/warc/CC-MAIN-20230927235044-20230928025044-00146.warc.gz\", \"encoding\": \"UTF-8\"}\n",
            "{\"urlkey\": \"com,prestigestamping)/\", \"timestamp\": \"20230928021431\", \"url\": \"http://prestigestamping.com/\", \"mime\": \"text/html\", \"mime-detected\": \"text/html\", \"status\": \"200\", \"digest\": \"Z546DIFW65RQMCSSNCDESTNQWGZOAU5X\", \"length\": \"858\", \"offset\": \"42009314\", \"filename\": \"crawl-data/CC-MAIN-2023-40/segments/1695233510334.9/warc/CC-MAIN-20230927235044-20230928025044-00517.warc.gz\", \"encoding\": \"UTF-8\"}\n",
            "\n",
            "Found 2 records for http://www.prestigestamping.com/\n",
            "Successfully fetched content for http://www.prestigestamping.com/\n",
            "Response from CCI: {\"urlkey\": \"com,safetysocket)/\", \"timestamp\": \"20230921191259\", \"url\": \"https://www.safetysocket.com/\", \"mime\": \"text/html\", \"mime-detected\": \"text/html\", \"status\": \"200\", \"digest\": \"JRG5PWPRBLP3THHA463UG6TP3IG4EQE4\", \"length\": \"22852\", \"offset\": \"1112966294\", \"filename\": \"crawl-data/CC-MAIN-2023-40/segments/1695233506029.42/warc/CC-MAIN-20230921174008-20230921204008-00628.warc.gz\", \"languages\": \"eng\", \"encoding\": \"UTF-8\"}\n",
            "\n",
            "Found 1 records for http://www.safetysocket.com/\n",
            "Successfully fetched content for http://www.safetysocket.com/\n",
            "Response from CCI: {\"urlkey\": \"com,seawaybolt)/\", \"timestamp\": \"20230924062351\", \"url\": \"https://www.seawaybolt.com/\", \"mime\": \"text/html\", \"mime-detected\": \"application/xhtml+xml\", \"status\": \"200\", \"digest\": \"UZUZXTUE5PGDY6D7WOXGAXZBEFXJ3HOG\", \"length\": \"94558\", \"offset\": \"1098435578\", \"filename\": \"crawl-data/CC-MAIN-2023-40/segments/1695233506623.27/warc/CC-MAIN-20230924055210-20230924085210-00784.warc.gz\", \"languages\": \"eng\", \"encoding\": \"UTF-8\"}\n",
            "\n",
            "Found 1 records for http://www.seawaybolt.com/\n",
            "Successfully fetched content for http://www.seawaybolt.com/\n",
            "Response from CCI: {\"message\": \"No Captures found for: http://www.semblex.com/\"}\n",
            "No records found for http://www.semblex.com/\n",
            "Response from CCI: {\"urlkey\": \"com,semsandspecials)/\", \"timestamp\": \"20231003100014\", \"url\": \"https://www.semsandspecials.com/\", \"mime\": \"text/html\", \"mime-detected\": \"text/html\", \"status\": \"200\", \"digest\": \"OXD6IGQ6CBVQHRP4RNLUWKWBYBRSKMYJ\", \"length\": \"94955\", \"offset\": \"1050409224\", \"filename\": \"crawl-data/CC-MAIN-2023-40/segments/1695233511075.63/warc/CC-MAIN-20231003092549-20231003122549-00754.warc.gz\", \"languages\": \"eng\", \"encoding\": \"UTF-8\"}\n",
            "\n",
            "Found 1 records for http://www.semsandspecials.com/\n",
            "Successfully fetched content for http://www.semsandspecials.com/\n",
            "Response from CCI: {\"message\": \"No Captures found for: http://www.shannonpf.com/\"}\n",
            "No records found for http://www.shannonpf.com/\n",
            "Response from CCI: {\"urlkey\": \"com,spartanfastener)/\", \"timestamp\": \"20230921121738\", \"url\": \"https://spartanfastener.com/\", \"mime\": \"text/html\", \"mime-detected\": \"application/xhtml+xml\", \"status\": \"200\", \"digest\": \"PQZ4STURW2RFSYX4QIESHP3I33GX4KVW\", \"length\": \"8559\", \"offset\": \"609569018\", \"filename\": \"crawl-data/CC-MAIN-2023-40/segments/1695233506027.39/warc/CC-MAIN-20230921105806-20230921135806-00627.warc.gz\", \"languages\": \"eng\", \"encoding\": \"UTF-8\"}\n",
            "\n",
            "Found 1 records for http://www.spartanfastener.com/\n",
            "Successfully fetched content for http://www.spartanfastener.com/\n",
            "Response from CCI: {\"urlkey\": \"com,stanleyengineeredfastening)/\", \"timestamp\": \"20230921074748\", \"url\": \"https://www.stanleyengineeredfastening.com\", \"mime\": \"text/html\", \"mime-detected\": \"text/html\", \"status\": \"302\", \"digest\": \"3YHJQBS6R5JFSUKAL45I7LWEQERJ3T26\", \"length\": \"20017\", \"offset\": \"34297280\", \"filename\": \"crawl-data/CC-MAIN-2023-40/segments/1695233505362.29/crawldiagnostics/CC-MAIN-20230921073711-20230921103711-00515.warc.gz\", \"redirect\": \"/en\"}\n",
            "{\"urlkey\": \"com,stanleyengineeredfastening)/\", \"timestamp\": \"20230921102036\", \"url\": \"https://www.stanleyengineeredfastening.com/\", \"mime\": \"text/html\", \"mime-detected\": \"text/html\", \"status\": \"200\", \"digest\": \"YNSZIX2Q4AEWYDILVKDWWPBFKGV57C35\", \"length\": \"24320\", \"offset\": \"1118139793\", \"filename\": \"crawl-data/CC-MAIN-2023-40/segments/1695233505362.29/warc/CC-MAIN-20230921073711-20230921103711-00472.warc.gz\", \"languages\": \"eng\", \"encoding\": \"UTF-8\"}\n",
            "{\"urlkey\": \"com,stanleyengineeredfastening)/\", \"timestamp\": \"20230923173821\", \"url\": \"https://www.stanleyengineeredfastening.com/\", \"mime\": \"text/html\", \"mime-detected\": \"text/html\", \"status\": \"200\", \"digest\": \"47PCNFTBL33XSBIF7RDOEL7PTBP2HPN3\", \"length\": \"24304\", \"offset\": \"1135037195\", \"filename\": \"crawl-data/CC-MAIN-2023-40/segments/1695233506528.19/warc/CC-MAIN-20230923162848-20230923192848-00472.warc.gz\", \"languages\": \"eng\", \"encoding\": \"UTF-8\"}\n",
            "{\"urlkey\": \"com,stanleyengineeredfastening)/\", \"timestamp\": \"20231001054627\", \"url\": \"http://www.stanleyengineeredfastening.com\", \"mime\": \"unk\", \"mime-detected\": \"application/octet-stream\", \"status\": \"301\", \"digest\": \"3I42H3S6NNFQ2MSVX7XZKYAYSCX5QBYJ\", \"length\": \"1590\", \"offset\": \"3290615\", \"filename\": \"crawl-data/CC-MAIN-2023-40/segments/1695233510781.66/crawldiagnostics/CC-MAIN-20231001041719-20231001071719-00532.warc.gz\", \"redirect\": \"https://www.stanleyengineeredfastening.com/\"}\n",
            "{\"urlkey\": \"com,stanleyengineeredfastening)/\", \"timestamp\": \"20231001054629\", \"url\": \"https://www.stanleyengineeredfastening.com/\", \"mime\": \"text/html\", \"mime-detected\": \"text/html\", \"status\": \"302\", \"digest\": \"6MOAYRFRDZ24CZM7YG7HEPYZ2DU7HW35\", \"length\": \"20031\", \"offset\": \"37122273\", \"filename\": \"crawl-data/CC-MAIN-2023-40/segments/1695233510781.66/crawldiagnostics/CC-MAIN-20231001041719-20231001071719-00472.warc.gz\", \"redirect\": \"/en\"}\n",
            "\n",
            "Found 5 records for http://www.stanleyengineeredfastening.com/\n",
            "Successfully fetched content for http://www.stanleyengineeredfastening.com/\n",
            "Response from CCI: {\"urlkey\": \"com,hpaulin)/\", \"timestamp\": \"20230922085206\", \"url\": \"https://hpaulin.com/\", \"mime\": \"text/html\", \"mime-detected\": \"text/html\", \"status\": \"301\", \"digest\": \"AEIG62XK2CY6R7JBK4WPWMWB2OE654UV\", \"length\": \"717\", \"offset\": \"11821613\", \"filename\": \"crawl-data/CC-MAIN-2023-40/segments/1695233506339.10/crawldiagnostics/CC-MAIN-20230922070214-20230922100214-00055.warc.gz\", \"redirect\": \"http://shop.hillmangroup.ca/\"}\n",
            "\n",
            "Found 1 records for http://www.hpaulin.com/\n",
            "Successfully fetched content for http://www.hpaulin.com/\n",
            "Response from CCI: {\"urlkey\": \"com,youngengineers)/\", \"timestamp\": \"20230925161747\", \"url\": \"https://www.youngengineers.com/\", \"mime\": \"text/html\", \"mime-detected\": \"text/html\", \"status\": \"200\", \"digest\": \"YFO2XXKS5EJVRMHCSAA5HZFYKWLL32YU\", \"length\": \"8814\", \"offset\": \"1196530379\", \"filename\": \"crawl-data/CC-MAIN-2023-40/segments/1695233509023.57/warc/CC-MAIN-20230925151539-20230925181539-00069.warc.gz\", \"languages\": \"eng\", \"encoding\": \"UTF-8\"}\n",
            "\n",
            "Found 1 records for http://www.youngengineers.com/\n",
            "Successfully fetched content for http://www.youngengineers.com/\n",
            "Response from CCI: {\"message\": \"No Captures found for: http://www.topuraaf.com/\"}\n",
            "No records found for http://www.topuraaf.com/\n",
            "Response from CCI: {\"urlkey\": \"com,tramec)/\", \"timestamp\": \"20231003140137\", \"url\": \"http://www.tramec.com/\", \"mime\": \"unk\", \"mime-detected\": \"application/octet-stream\", \"status\": \"301\", \"digest\": \"3I42H3S6NNFQ2MSVX7XZKYAYSCX5QBYJ\", \"length\": \"850\", \"offset\": \"3108695\", \"filename\": \"crawl-data/CC-MAIN-2023-40/segments/1695233511106.1/crawldiagnostics/CC-MAIN-20231003124522-20231003154522-00172.warc.gz\", \"redirect\": \"https://www.tramec.com/\"}\n",
            "{\"urlkey\": \"com,tramec)/\", \"timestamp\": \"20231003140137\", \"url\": \"https://tramec.com/\", \"mime\": \"text/html\", \"mime-detected\": \"text/html\", \"status\": \"200\", \"digest\": \"TEZ6WGQJZ2JUJLDGSVYTKIRX3AT55OIC\", \"length\": \"16265\", \"offset\": \"630651012\", \"filename\": \"crawl-data/CC-MAIN-2023-40/segments/1695233511106.1/warc/CC-MAIN-20231003124522-20231003154522-00676.warc.gz\", \"languages\": \"eng\", \"encoding\": \"UTF-8\"}\n",
            "{\"urlkey\": \"com,tramec)/\", \"timestamp\": \"20231003140137\", \"url\": \"https://www.tramec.com/\", \"mime\": \"text/html\", \"mime-detected\": \"text/html\", \"status\": \"301\", \"digest\": \"IVB6C7OHICSEZSFPCGPVPVZXQJUZVIR6\", \"length\": \"1168\", \"offset\": \"37543338\", \"filename\": \"crawl-data/CC-MAIN-2023-40/segments/1695233511106.1/crawldiagnostics/CC-MAIN-20231003124522-20231003154522-00825.warc.gz\", \"redirect\": \"https://tramec.com/\"}\n",
            "\n",
            "Found 3 records for http://www.tramec.com/\n",
            "Successfully fetched content for http://www.tramec.com/\n",
            "Response from CCI: {\"urlkey\": \"com,allfastinc)/\", \"timestamp\": \"20231003013248\", \"url\": \"http://allfastinc.com/\", \"mime\": \"text/html\", \"mime-detected\": \"text/plain\", \"status\": \"302\", \"digest\": \"OGCTYYMXU2T7EIW3B4MXRR6LEMVYPRPO\", \"length\": \"605\", \"offset\": \"96750\", \"filename\": \"crawl-data/CC-MAIN-2023-40/segments/1695233511023.76/crawldiagnostics/CC-MAIN-20231002232712-20231003022712-00082.warc.gz\", \"redirect\": \"http://ww25.allfastinc.com/?subid1=20231003-1232-4776-bee1-069c534f1651\"}\n",
            "{\"urlkey\": \"com,allfastinc)/\", \"timestamp\": \"20231004155242\", \"url\": \"http://www.allfastinc.com/\", \"mime\": \"text/html\", \"mime-detected\": \"text/plain\", \"status\": \"302\", \"digest\": \"OGCTYYMXU2T7EIW3B4MXRR6LEMVYPRPO\", \"length\": \"601\", \"offset\": \"2203487\", \"filename\": \"crawl-data/CC-MAIN-2023-40/segments/1695233511386.54/crawldiagnostics/CC-MAIN-20231004152134-20231004182134-00515.warc.gz\", \"redirect\": \"http://ww25.allfastinc.com/?subid1=20231005-0252-417a-bdf2-af89caf08eb6\"}\n",
            "\n",
            "Found 2 records for http://www.allfastinc.com/\n",
            "Successfully fetched content for http://www.allfastinc.com/\n",
            "Response from CCI: {\"urlkey\": \"com,turnasure)/\", \"timestamp\": \"20230927235536\", \"url\": \"https://turnasure.com/\", \"mime\": \"text/html\", \"mime-detected\": \"text/html\", \"status\": \"200\", \"digest\": \"J5NDN2T37YL6QUPCQ7LBPNOJZKU267YP\", \"length\": \"5409\", \"offset\": \"628959701\", \"filename\": \"crawl-data/CC-MAIN-2023-40/segments/1695233510334.9/warc/CC-MAIN-20230927235044-20230928025044-00267.warc.gz\", \"languages\": \"eng\", \"encoding\": \"UTF-8\"}\n",
            "{\"urlkey\": \"com,turnasure)/\", \"timestamp\": \"20230928184518\", \"url\": \"https://turnasure.com/\", \"mime\": \"text/html\", \"mime-detected\": \"text/html\", \"status\": \"200\", \"digest\": \"J5NDN2T37YL6QUPCQ7LBPNOJZKU267YP\", \"length\": \"5421\", \"offset\": \"635106395\", \"filename\": \"crawl-data/CC-MAIN-2023-40/segments/1695233510427.16/warc/CC-MAIN-20230928162907-20230928192907-00267.warc.gz\", \"languages\": \"eng\", \"encoding\": \"UTF-8\"}\n",
            "\n",
            "Found 2 records for http://www.turnasure.com/\n",
            "Successfully fetched content for http://www.turnasure.com/\n",
            "Response from CCI: {\"urlkey\": \"com,unytiteusa)/\", \"timestamp\": \"20230929004409\", \"url\": \"https://www.unytiteusa.com/\", \"mime\": \"text/html\", \"mime-detected\": \"text/html\", \"status\": \"200\", \"digest\": \"V4VGZ6SL3BSKNEVM4ORF6RC6N4KFZJZL\", \"length\": \"7915\", \"offset\": \"1138793839\", \"filename\": \"crawl-data/CC-MAIN-2023-40/segments/1695233510462.75/warc/CC-MAIN-20230928230810-20230929020810-00712.warc.gz\", \"languages\": \"eng\", \"encoding\": \"UTF-8\"}\n",
            "{\"urlkey\": \"com,unytiteusa)/\", \"timestamp\": \"20231001122620\", \"url\": \"https://unytiteusa.com/\", \"mime\": \"text/html\", \"mime-detected\": \"text/html\", \"status\": \"200\", \"digest\": \"T4CAREVIT6AJDJMU6ZORDRBQAJ572AMA\", \"length\": \"7506\", \"offset\": \"653427045\", \"filename\": \"crawl-data/CC-MAIN-2023-40/segments/1695233510888.64/warc/CC-MAIN-20231001105617-20231001135617-00743.warc.gz\", \"languages\": \"eng\", \"encoding\": \"UTF-8\"}\n",
            "\n",
            "Found 2 records for http://www.unytiteusa.com/\n",
            "Successfully fetched content for http://www.unytiteusa.com/\n",
            "Response from CCI: {\"urlkey\": \"com,valleyfastener)/\", \"timestamp\": \"20231002001820\", \"url\": \"https://valleyfastener.com\", \"mime\": \"text/html\", \"mime-detected\": \"text/html\", \"status\": \"200\", \"digest\": \"EH5K7OSUMOGIHAZQIL5OK4RMOZCPWEZW\", \"length\": \"10461\", \"offset\": \"623079611\", \"filename\": \"crawl-data/CC-MAIN-2023-40/segments/1695233510942.97/warc/CC-MAIN-20231002001302-20231002031302-00336.warc.gz\", \"languages\": \"eng\", \"encoding\": \"UTF-8\"}\n",
            "{\"urlkey\": \"com,valleyfastener)/\", \"timestamp\": \"20231002023351\", \"url\": \"https://valleyfastener.com/\", \"mime\": \"text/html\", \"mime-detected\": \"text/html\", \"status\": \"200\", \"digest\": \"QMTXDV3GBXTEQYLTZPS2U47BVLIWDJF6\", \"length\": \"10486\", \"offset\": \"628028837\", \"filename\": \"crawl-data/CC-MAIN-2023-40/segments/1695233510942.97/warc/CC-MAIN-20231002001302-20231002031302-00323.warc.gz\", \"languages\": \"eng\", \"encoding\": \"UTF-8\"}\n",
            "\n",
            "Found 2 records for http://www.valleyfastener.com/\n",
            "Successfully fetched content for http://www.valleyfastener.com/\n",
            "Response from CCI: {\"urlkey\": \"com,vfbolts)/\", \"timestamp\": \"20230922183550\", \"url\": \"https://www.vfbolts.com/\", \"mime\": \"text/html\", \"mime-detected\": \"text/html\", \"status\": \"200\", \"digest\": \"J6EILXO4LZZVR67KC75OTMIIM4WS6OV2\", \"length\": \"27349\", \"offset\": \"1188720835\", \"filename\": \"crawl-data/CC-MAIN-2023-40/segments/1695233506421.14/warc/CC-MAIN-20230922170343-20230922200343-00021.warc.gz\", \"languages\": \"eng\", \"encoding\": \"UTF-8\"}\n",
            "{\"urlkey\": \"com,vfbolts)/\", \"timestamp\": \"20230922192442\", \"url\": \"https://www.vfbolts.com\", \"mime\": \"text/html\", \"mime-detected\": \"text/html\", \"status\": \"200\", \"digest\": \"J6EILXO4LZZVR67KC75OTMIIM4WS6OV2\", \"length\": \"27348\", \"offset\": \"1164898569\", \"filename\": \"crawl-data/CC-MAIN-2023-40/segments/1695233506421.14/warc/CC-MAIN-20230922170343-20230922200343-00534.warc.gz\", \"languages\": \"eng\", \"encoding\": \"UTF-8\"}\n",
            "\n",
            "Found 2 records for http://www.vfbolts.com/\n",
            "Successfully fetched content for http://www.vfbolts.com/\n",
            "Response from CCI: {\"urlkey\": \"com,vampcompany)/\", \"timestamp\": \"20231004200939\", \"url\": \"http://vampcompany.com/\", \"mime\": \"unk\", \"mime-detected\": \"application/octet-stream\", \"status\": \"301\", \"digest\": \"3I42H3S6NNFQ2MSVX7XZKYAYSCX5QBYJ\", \"length\": \"843\", \"offset\": \"1758569\", \"filename\": \"crawl-data/CC-MAIN-2023-40/segments/1695233511406.34/crawldiagnostics/CC-MAIN-20231004184208-20231004214208-00578.warc.gz\", \"redirect\": \"https://vampcompany.com/\"}\n",
            "{\"urlkey\": \"com,vampcompany)/\", \"timestamp\": \"20231004200939\", \"url\": \"https://vampcompany.com/\", \"mime\": \"text/html\", \"mime-detected\": \"text/html\", \"status\": \"200\", \"digest\": \"TCYGLKP6EPNJNELN7ZBOLSI7Q4KH4HUX\", \"length\": \"22818\", \"offset\": \"631788402\", \"filename\": \"crawl-data/CC-MAIN-2023-40/segments/1695233511406.34/warc/CC-MAIN-20231004184208-20231004214208-00625.warc.gz\", \"languages\": \"eng\", \"encoding\": \"UTF-8\"}\n",
            "\n",
            "Found 2 records for http://www.vampcompany.com/\n",
            "Successfully fetched content for http://www.vampcompany.com/\n",
            "Response from CCI: {\"urlkey\": \"com,vegasfastener)/\", \"timestamp\": \"20230922020512\", \"url\": \"https://www.vegasfastener.com/\", \"mime\": \"text/html\", \"mime-detected\": \"text/html\", \"status\": \"200\", \"digest\": \"EVLFW2OI2GP6YKIR2FHIZVEWWCFYKXVJ\", \"length\": \"9586\", \"offset\": \"1208076697\", \"filename\": \"crawl-data/CC-MAIN-2023-40/segments/1695233506320.28/warc/CC-MAIN-20230922002008-20230922032008-00023.warc.gz\", \"languages\": \"eng\", \"encoding\": \"UTF-8\"}\n",
            "\n",
            "Found 1 records for http://www.vegasfastener.com/\n",
            "Successfully fetched content for http://www.vegasfastener.com/\n",
            "Response from CCI: {\"urlkey\": \"com,vico)/\", \"timestamp\": \"20230921142024\", \"url\": \"https://vico.com/\", \"mime\": \"text/html\", \"mime-detected\": \"text/html\", \"status\": \"200\", \"digest\": \"IND4EEAGOYEKPBJKOQD74MLQMCH3CBXG\", \"length\": \"25884\", \"offset\": \"667956359\", \"filename\": \"crawl-data/CC-MAIN-2023-40/segments/1695233506028.36/warc/CC-MAIN-20230921141907-20230921171907-00309.warc.gz\", \"languages\": \"eng\", \"encoding\": \"UTF-8\"}\n",
            "{\"urlkey\": \"com,vico)/\", \"timestamp\": \"20230921142024\", \"url\": \"https://www.vico.com/\", \"mime\": \"text/html\", \"mime-detected\": \"application/octet-stream\", \"status\": \"301\", \"digest\": \"3I42H3S6NNFQ2MSVX7XZKYAYSCX5QBYJ\", \"length\": \"638\", \"offset\": \"35863685\", \"filename\": \"crawl-data/CC-MAIN-2023-40/segments/1695233506028.36/crawldiagnostics/CC-MAIN-20230921141907-20230921171907-00618.warc.gz\", \"redirect\": \"https://vico.com/\"}\n",
            "{\"urlkey\": \"com,vico)/\", \"timestamp\": \"20230926002349\", \"url\": \"https://vico.com/\", \"mime\": \"text/html\", \"mime-detected\": \"text/html\", \"status\": \"200\", \"digest\": \"CAJAXEF7WAJSCFOGBPQNSBLJBKAOIYVU\", \"length\": \"25946\", \"offset\": \"651030487\", \"filename\": \"crawl-data/CC-MAIN-2023-40/segments/1695233510100.47/warc/CC-MAIN-20230925215547-20230926005547-00309.warc.gz\", \"languages\": \"eng\", \"encoding\": \"UTF-8\"}\n",
            "\n",
            "Found 3 records for http://www.vico.com/\n",
            "Successfully fetched content for http://www.vico.com/\n",
            "Response from CCI: {\"urlkey\": \"com,westernwireprod)/\", \"timestamp\": \"20230924235557\", \"url\": \"https://westernwireprod.com/\", \"mime\": \"text/html\", \"mime-detected\": \"text/html\", \"status\": \"200\", \"digest\": \"TOHDEK2RBIZNGYPRV7KWBKVVCNZQJTYF\", \"length\": \"28703\", \"offset\": \"669481064\", \"filename\": \"crawl-data/CC-MAIN-2023-40/segments/1695233506669.96/warc/CC-MAIN-20230924223409-20230925013409-00086.warc.gz\", \"languages\": \"eng\", \"encoding\": \"UTF-8\"}\n",
            "{\"urlkey\": \"com,westernwireprod)/\", \"timestamp\": \"20230928111301\", \"url\": \"https://westernwireprod.com/\", \"mime\": \"text/html\", \"mime-detected\": \"text/html\", \"status\": \"200\", \"digest\": \"UUB3BZJ3EO5DDXRORHXX2FFXT7ZYVSQD\", \"length\": \"28695\", \"offset\": \"666974274\", \"filename\": \"crawl-data/CC-MAIN-2023-40/segments/1695233510387.77/warc/CC-MAIN-20230928095004-20230928125004-00086.warc.gz\", \"languages\": \"eng\", \"encoding\": \"UTF-8\"}\n",
            "\n",
            "Found 2 records for http://www.westernwireprod.com/\n",
            "Successfully fetched content for http://www.westernwireprod.com/\n",
            "Response from CCI: {\"urlkey\": \"com,wroughtwasher)/\", \"timestamp\": \"20230930034059\", \"url\": \"https://www.wroughtwasher.com/\", \"mime\": \"text/html\", \"mime-detected\": \"text/html\", \"status\": \"200\", \"digest\": \"3QDQIJVXPE76E35LKWRMU4EV3S2RYRBT\", \"length\": \"15499\", \"offset\": \"1158355884\", \"filename\": \"crawl-data/CC-MAIN-2023-40/segments/1695233510575.93/warc/CC-MAIN-20230930014147-20230930044147-00321.warc.gz\", \"languages\": \"eng\", \"encoding\": \"UTF-8\"}\n",
            "\n",
            "Found 1 records for http://www.wroughtwasher.com/\n",
            "Successfully fetched content for http://www.wroughtwasher.com/\n",
            "Response from CCI: {\"message\": \"No Captures found for: http://www.atticaautomation.com/\"}\n",
            "No records found for http://www.atticaautomation.com/\n",
            "Response from CCI: {\"urlkey\": \"com,atotech)/\", \"timestamp\": \"20230926001427\", \"url\": \"http://www.atotech.com/\", \"mime\": \"text/html\", \"mime-detected\": \"text/html\", \"status\": \"301\", \"digest\": \"FIPNP5DBVX5V3SHQK2SM4QKWJQPOCNZI\", \"length\": \"680\", \"offset\": \"2087174\", \"filename\": \"crawl-data/CC-MAIN-2023-40/segments/1695233510100.47/crawldiagnostics/CC-MAIN-20230925215547-20230926005547-00474.warc.gz\", \"redirect\": \"https://www.atotech.com/\"}\n",
            "{\"urlkey\": \"com,atotech)/\", \"timestamp\": \"20230926001428\", \"url\": \"https://www.atotech.com/\", \"mime\": \"text/html\", \"mime-detected\": \"text/html\", \"status\": \"200\", \"digest\": \"U54G3MNIPG3QBX52DDWA7DNZCXFDQXRT\", \"length\": \"41699\", \"offset\": \"729134322\", \"filename\": \"crawl-data/CC-MAIN-2023-40/segments/1695233510100.47/warc/CC-MAIN-20230925215547-20230926005547-00521.warc.gz\", \"languages\": \"eng\", \"encoding\": \"UTF-8\"}\n",
            "{\"urlkey\": \"com,atotech)/\", \"timestamp\": \"20230926163124\", \"url\": \"https://www.atotech.com\", \"mime\": \"text/html\", \"mime-detected\": \"text/html\", \"status\": \"200\", \"digest\": \"22MQWJMPACFW7RLQ5H465CMPBSFMZU4M\", \"length\": \"41728\", \"offset\": \"719471123\", \"filename\": \"crawl-data/CC-MAIN-2023-40/segments/1695233510214.81/warc/CC-MAIN-20230926143354-20230926173354-00506.warc.gz\", \"languages\": \"eng\", \"encoding\": \"UTF-8\"}\n",
            "{\"urlkey\": \"com,atotech)/\", \"timestamp\": \"20231002140223\", \"url\": \"http://atotech.com/\", \"mime\": \"text/html\", \"mime-detected\": \"text/html\", \"status\": \"301\", \"digest\": \"IDT2M47R2WQKOJDAD6Y26EKJASXONHD6\", \"length\": \"673\", \"offset\": \"142277\", \"filename\": \"crawl-data/CC-MAIN-2023-40/segments/1695233511000.99/crawldiagnostics/CC-MAIN-20231002132844-20231002162844-00255.warc.gz\", \"redirect\": \"https://atotech.com/\"}\n",
            "{\"urlkey\": \"com,atotech)/\", \"timestamp\": \"20231002140223\", \"url\": \"https://atotech.com/\", \"mime\": \"text/html\", \"mime-detected\": \"text/html\", \"status\": \"301\", \"digest\": \"3I42H3S6NNFQ2MSVX7XZKYAYSCX5QBYJ\", \"length\": \"574\", \"offset\": \"4868600\", \"filename\": \"crawl-data/CC-MAIN-2023-40/segments/1695233511000.99/crawldiagnostics/CC-MAIN-20231002132844-20231002162844-00366.warc.gz\", \"redirect\": \"https://www.atotech.com/\"}\n",
            "{\"urlkey\": \"com,atotech)/\", \"timestamp\": \"20231002140225\", \"url\": \"https://www.atotech.com/\", \"mime\": \"text/html\", \"mime-detected\": \"text/html\", \"status\": \"200\", \"digest\": \"X66DQJPN5TQAGAK7KJMAC6ML5LNWBMEJ\", \"length\": \"41725\", \"offset\": \"700538894\", \"filename\": \"crawl-data/CC-MAIN-2023-40/segments/1695233511000.99/warc/CC-MAIN-20231002132844-20231002162844-00521.warc.gz\", \"languages\": \"eng\", \"encoding\": \"UTF-8\"}\n",
            "\n",
            "Found 6 records for http://www.atotech.com/\n",
            "Successfully fetched content for http://www.atotech.com/\n",
            "Response from CCI: {\"message\": \"No Captures found for: http://www.arcelormittal.com/\"}\n",
            "No records found for http://www.arcelormittal.com/\n",
            "Response from CCI: {\"urlkey\": \"com,angor-intools)/\", \"timestamp\": \"20230923132611\", \"url\": \"https://www.angor-intools.com/\", \"mime\": \"text/html\", \"mime-detected\": \"text/html\", \"status\": \"200\", \"digest\": \"QPF7FV5M6SMDTZYMAVXEUXJDPI6D6MOD\", \"length\": \"11183\", \"offset\": \"717121422\", \"filename\": \"crawl-data/CC-MAIN-2023-40/segments/1695233506481.17/warc/CC-MAIN-20230923130827-20230923160827-00797.warc.gz\", \"languages\": \"eng\", \"encoding\": \"UTF-8\"}\n",
            "\n",
            "Found 1 records for http://www.angor-intools.com/\n",
            "Successfully fetched content for http://www.angor-intools.com/\n",
            "Response from CCI: {\"urlkey\": \"com,aaaplating)/\", \"timestamp\": \"20230926151728\", \"url\": \"https://aaaplating.com/\", \"mime\": \"text/html\", \"mime-detected\": \"text/html\", \"status\": \"406\", \"digest\": \"DXI2LRHAQOJGQSZF3D3M7V6WOC25TW4Z\", \"length\": \"645\", \"offset\": \"3350231\", \"filename\": \"crawl-data/CC-MAIN-2023-40/segments/1695233510214.81/crawldiagnostics/CC-MAIN-20230926143354-20230926173354-00618.warc.gz\"}\n",
            "\n",
            "Found 1 records for http://www.aaaplating.com/\n",
            "Successfully fetched content for http://www.aaaplating.com/\n",
            "Response from CCI: {\"urlkey\": \"com,adeptfasteners)/\", \"timestamp\": \"20230925185623\", \"url\": \"https://www.adeptfasteners.com/\", \"mime\": \"text/html\", \"mime-detected\": \"text/html\", \"status\": \"200\", \"digest\": \"X6Y3CCZD6KSUTQWFLR4N5IUHUPHJMUWO\", \"length\": \"6546\", \"offset\": \"684699407\", \"filename\": \"crawl-data/CC-MAIN-2023-40/segments/1695233510085.26/warc/CC-MAIN-20230925183615-20230925213615-00738.warc.gz\", \"languages\": \"eng\", \"encoding\": \"UTF-8\"}\n",
            "\n",
            "Found 1 records for http://www.adeptfasteners.com/\n",
            "Successfully fetched content for http://www.adeptfasteners.com/\n"
          ]
        }
      ]
    },
    {
      "cell_type": "code",
      "source": [
        "# pickle the dict to disk (I think it's raw bytes of WARC type data)\n",
        "import pickle\n",
        "\n",
        "with open('fastener_scrape_warc_dict.pickle', 'wb') as handle:\n",
        "    pickle.dump(content_list, handle, protocol=pickle.HIGHEST_PROTOCOL)\n",
        "\n",
        "with open('fastener_scrape_warc_dict.pickle', 'rb') as handle:\n",
        "    content_list_from_disk = pickle.load(handle)\n",
        "\n",
        "print(content_list == content_list_from_disk)"
      ],
      "metadata": {
        "colab": {
          "base_uri": "https://localhost:8080/"
        },
        "id": "645AE3Z6BjBI",
        "outputId": "d562b9e8-3528-484e-d772-b8f2c02bb49f"
      },
      "execution_count": 11,
      "outputs": [
        {
          "output_type": "stream",
          "name": "stdout",
          "text": [
            "True\n"
          ]
        }
      ]
    },
    {
      "cell_type": "code",
      "source": [
        "# to restore saved pickle from Drive\n",
        "\n",
        "import gdown\n",
        "\n",
        "url = 'https://drive.google.com/uc?id=1IOdj79rt0hcFEU83vSpPg6XOH1h2R0U0'\n",
        "output = \"./\"\n",
        "gdown.download(url, output, quiet=False)\n",
        "\n"
      ],
      "metadata": {
        "colab": {
          "base_uri": "https://localhost:8080/",
          "height": 107
        },
        "id": "yfCOvsJvLKyC",
        "outputId": "6a69c4c3-9a47-4354-fc95-586d0bd06db0"
      },
      "execution_count": null,
      "outputs": [
        {
          "output_type": "stream",
          "name": "stderr",
          "text": [
            "Downloading...\n",
            "From: https://drive.google.com/uc?id=1IOdj79rt0hcFEU83vSpPg6XOH1h2R0U0\n",
            "To: /content/fastener_scrape_warc_dict.pickle\n",
            "100%|██████████| 2.06k/2.06k [00:00<00:00, 3.71MB/s]\n"
          ]
        },
        {
          "output_type": "execute_result",
          "data": {
            "text/plain": [
              "'./fastener_scrape_warc_dict.pickle'"
            ],
            "application/vnd.google.colaboratory.intrinsic+json": {
              "type": "string"
            }
          },
          "metadata": {},
          "execution_count": 43
        }
      ]
    }
  ]
}